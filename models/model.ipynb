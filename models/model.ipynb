{
 "cells": [
  {
   "attachments": {},
   "cell_type": "markdown",
   "metadata": {},
   "source": [
    "## Import Necessary Libs"
   ]
  },
  {
   "cell_type": "code",
   "execution_count": 1,
   "metadata": {},
   "outputs": [],
   "source": [
    "import pandas as pd\n",
    "import os\n",
    "import numpy as np\n",
    "import shutil\n",
    "import ast\n",
    "from sklearn import model_selection\n",
    "from tqdm import tqdm\n",
    "import wandb\n",
    "from sklearn.model_selection import train_test_split\n",
    "from IPython.display import display, clear_output  # to display images\n",
    "from PIL import Image \n",
    "from os import listdir\n",
    "from os.path import isfile\n",
    "from glob import glob\n",
    "import yaml\n",
    "import torch"
   ]
  },
  {
   "attachments": {},
   "cell_type": "markdown",
   "metadata": {},
   "source": [
    "## Define PATHs"
   ]
  },
  {
   "cell_type": "code",
   "execution_count": 2,
   "metadata": {},
   "outputs": [],
   "source": [
    "TRAIN_LABELS_PATH = './vinbigdata/labels/train'\n",
    "VAL_LABELS_PATH = './vinbigdata/labels/val'\n",
    "TRAIN_IMAGES_PATH = './vinbigdata/images/train'\n",
    "VAL_IMAGES_PATH = './vinbigdata/images/val'\n",
    "External_DIR = '../input/vinbigdata-512-image-dataset/vinbigdata/train'\n",
    "os.makedirs(TRAIN_LABELS_PATH, exist_ok = True)\n",
    "os.makedirs(VAL_LABELS_PATH, exist_ok = True)\n",
    "os.makedirs(TRAIN_IMAGES_PATH, exist_ok = True)\n",
    "os.makedirs(VAL_IMAGES_PATH, exist_ok = True)\n",
    "\n",
    "# image size to be put into YOLOv5\n",
    "size = 256"
   ]
  },
  {
   "cell_type": "code",
   "execution_count": 3,
   "metadata": {},
   "outputs": [
    {
     "name": "stdout",
     "output_type": "stream",
     "text": [
      "/Users/teeradejlo/Desktop/Projects/DataScience/Bas_CXRAnomalyDetection/models\n"
     ]
    },
    {
     "data": {
      "text/plain": [
       "'/Users/teeradejlo/Desktop/Projects/DataScience/Bas_CXRAnomalyDetection/models'"
      ]
     },
     "execution_count": 3,
     "metadata": {},
     "output_type": "execute_result"
    }
   ],
   "source": [
    "%cd /Users/teeradejlo/Desktop/Projects/DataScience/Bas_CXRAnomalyDetection/models\n",
    "%pwd"
   ]
  },
  {
   "attachments": {},
   "cell_type": "markdown",
   "metadata": {},
   "source": [
    "## Observe Dataset"
   ]
  },
  {
   "cell_type": "code",
   "execution_count": 4,
   "metadata": {},
   "outputs": [
    {
     "data": {
      "text/html": [
       "<div>\n",
       "<style scoped>\n",
       "    .dataframe tbody tr th:only-of-type {\n",
       "        vertical-align: middle;\n",
       "    }\n",
       "\n",
       "    .dataframe tbody tr th {\n",
       "        vertical-align: top;\n",
       "    }\n",
       "\n",
       "    .dataframe thead th {\n",
       "        text-align: right;\n",
       "    }\n",
       "</style>\n",
       "<table border=\"1\" class=\"dataframe\">\n",
       "  <thead>\n",
       "    <tr style=\"text-align: right;\">\n",
       "      <th></th>\n",
       "      <th>image_id</th>\n",
       "      <th>class_name</th>\n",
       "      <th>class_id</th>\n",
       "      <th>rad_id</th>\n",
       "      <th>x_min</th>\n",
       "      <th>y_min</th>\n",
       "      <th>x_max</th>\n",
       "      <th>y_max</th>\n",
       "      <th>width</th>\n",
       "      <th>height</th>\n",
       "    </tr>\n",
       "  </thead>\n",
       "  <tbody>\n",
       "    <tr>\n",
       "      <th>0</th>\n",
       "      <td>50a418190bc3fb1ef1633bf9678929b3</td>\n",
       "      <td>No finding</td>\n",
       "      <td>14</td>\n",
       "      <td>R11</td>\n",
       "      <td>NaN</td>\n",
       "      <td>NaN</td>\n",
       "      <td>NaN</td>\n",
       "      <td>NaN</td>\n",
       "      <td>2332</td>\n",
       "      <td>2580</td>\n",
       "    </tr>\n",
       "    <tr>\n",
       "      <th>1</th>\n",
       "      <td>21a10246a5ec7af151081d0cd6d65dc9</td>\n",
       "      <td>No finding</td>\n",
       "      <td>14</td>\n",
       "      <td>R7</td>\n",
       "      <td>NaN</td>\n",
       "      <td>NaN</td>\n",
       "      <td>NaN</td>\n",
       "      <td>NaN</td>\n",
       "      <td>2954</td>\n",
       "      <td>3159</td>\n",
       "    </tr>\n",
       "    <tr>\n",
       "      <th>2</th>\n",
       "      <td>9a5094b2563a1ef3ff50dc5c7ff71345</td>\n",
       "      <td>Cardiomegaly</td>\n",
       "      <td>3</td>\n",
       "      <td>R10</td>\n",
       "      <td>691.0</td>\n",
       "      <td>1375.0</td>\n",
       "      <td>1653.0</td>\n",
       "      <td>1831.0</td>\n",
       "      <td>2080</td>\n",
       "      <td>2336</td>\n",
       "    </tr>\n",
       "    <tr>\n",
       "      <th>3</th>\n",
       "      <td>051132a778e61a86eb147c7c6f564dfe</td>\n",
       "      <td>Aortic enlargement</td>\n",
       "      <td>0</td>\n",
       "      <td>R10</td>\n",
       "      <td>1264.0</td>\n",
       "      <td>743.0</td>\n",
       "      <td>1611.0</td>\n",
       "      <td>1019.0</td>\n",
       "      <td>2304</td>\n",
       "      <td>2880</td>\n",
       "    </tr>\n",
       "    <tr>\n",
       "      <th>4</th>\n",
       "      <td>063319de25ce7edb9b1c6b8881290140</td>\n",
       "      <td>No finding</td>\n",
       "      <td>14</td>\n",
       "      <td>R10</td>\n",
       "      <td>NaN</td>\n",
       "      <td>NaN</td>\n",
       "      <td>NaN</td>\n",
       "      <td>NaN</td>\n",
       "      <td>2540</td>\n",
       "      <td>3072</td>\n",
       "    </tr>\n",
       "  </tbody>\n",
       "</table>\n",
       "</div>"
      ],
      "text/plain": [
       "                           image_id          class_name  class_id rad_id  \\\n",
       "0  50a418190bc3fb1ef1633bf9678929b3          No finding        14    R11   \n",
       "1  21a10246a5ec7af151081d0cd6d65dc9          No finding        14     R7   \n",
       "2  9a5094b2563a1ef3ff50dc5c7ff71345        Cardiomegaly         3    R10   \n",
       "3  051132a778e61a86eb147c7c6f564dfe  Aortic enlargement         0    R10   \n",
       "4  063319de25ce7edb9b1c6b8881290140          No finding        14    R10   \n",
       "\n",
       "    x_min   y_min   x_max   y_max  width  height  \n",
       "0     NaN     NaN     NaN     NaN   2332    2580  \n",
       "1     NaN     NaN     NaN     NaN   2954    3159  \n",
       "2   691.0  1375.0  1653.0  1831.0   2080    2336  \n",
       "3  1264.0   743.0  1611.0  1019.0   2304    2880  \n",
       "4     NaN     NaN     NaN     NaN   2540    3072  "
      ]
     },
     "execution_count": 4,
     "metadata": {},
     "output_type": "execute_result"
    }
   ],
   "source": [
    "df = pd.read_csv('../input/vinbigdata-512-image-dataset/vinbigdata/train.csv')\n",
    "df.head()"
   ]
  },
  {
   "cell_type": "code",
   "execution_count": 5,
   "metadata": {},
   "outputs": [
    {
     "data": {
      "text/plain": [
       "(67914, 10)"
      ]
     },
     "execution_count": 5,
     "metadata": {},
     "output_type": "execute_result"
    }
   ],
   "source": [
    "df.shape"
   ]
  },
  {
   "cell_type": "code",
   "execution_count": 6,
   "metadata": {},
   "outputs": [
    {
     "data": {
      "text/plain": [
       "15000"
      ]
     },
     "execution_count": 6,
     "metadata": {},
     "output_type": "execute_result"
    }
   ],
   "source": [
    "len(df['image_id'].unique())"
   ]
  },
  {
   "cell_type": "code",
   "execution_count": 7,
   "metadata": {},
   "outputs": [
    {
     "name": "stdout",
     "output_type": "stream",
     "text": [
      "No finding            31818\n",
      "Aortic enlargement     7162\n",
      "Cardiomegaly           5427\n",
      "Pleural thickening     4842\n",
      "Pulmonary fibrosis     4655\n",
      "Nodule/Mass            2580\n",
      "Lung Opacity           2483\n",
      "Pleural effusion       2476\n",
      "Other lesion           2203\n",
      "Infiltration           1247\n",
      "ILD                    1000\n",
      "Calcification           960\n",
      "Consolidation           556\n",
      "Atelectasis             279\n",
      "Pneumothorax            226\n",
      "Name: class_name, dtype: int64\n"
     ]
    }
   ],
   "source": [
    "print(df['class_name'].value_counts())"
   ]
  },
  {
   "attachments": {},
   "cell_type": "markdown",
   "metadata": {},
   "source": [
    "## Remove \"No finding\" Rows"
   ]
  },
  {
   "cell_type": "code",
   "execution_count": 8,
   "metadata": {},
   "outputs": [
    {
     "data": {
      "text/html": [
       "<div>\n",
       "<style scoped>\n",
       "    .dataframe tbody tr th:only-of-type {\n",
       "        vertical-align: middle;\n",
       "    }\n",
       "\n",
       "    .dataframe tbody tr th {\n",
       "        vertical-align: top;\n",
       "    }\n",
       "\n",
       "    .dataframe thead th {\n",
       "        text-align: right;\n",
       "    }\n",
       "</style>\n",
       "<table border=\"1\" class=\"dataframe\">\n",
       "  <thead>\n",
       "    <tr style=\"text-align: right;\">\n",
       "      <th></th>\n",
       "      <th>image_id</th>\n",
       "      <th>class_name</th>\n",
       "      <th>class_id</th>\n",
       "      <th>rad_id</th>\n",
       "      <th>x_min</th>\n",
       "      <th>y_min</th>\n",
       "      <th>x_max</th>\n",
       "      <th>y_max</th>\n",
       "      <th>width</th>\n",
       "      <th>height</th>\n",
       "    </tr>\n",
       "  </thead>\n",
       "  <tbody>\n",
       "    <tr>\n",
       "      <th>0</th>\n",
       "      <td>9a5094b2563a1ef3ff50dc5c7ff71345</td>\n",
       "      <td>Cardiomegaly</td>\n",
       "      <td>3</td>\n",
       "      <td>R10</td>\n",
       "      <td>691.0</td>\n",
       "      <td>1375.0</td>\n",
       "      <td>1653.0</td>\n",
       "      <td>1831.0</td>\n",
       "      <td>2080</td>\n",
       "      <td>2336</td>\n",
       "    </tr>\n",
       "    <tr>\n",
       "      <th>1</th>\n",
       "      <td>051132a778e61a86eb147c7c6f564dfe</td>\n",
       "      <td>Aortic enlargement</td>\n",
       "      <td>0</td>\n",
       "      <td>R10</td>\n",
       "      <td>1264.0</td>\n",
       "      <td>743.0</td>\n",
       "      <td>1611.0</td>\n",
       "      <td>1019.0</td>\n",
       "      <td>2304</td>\n",
       "      <td>2880</td>\n",
       "    </tr>\n",
       "    <tr>\n",
       "      <th>2</th>\n",
       "      <td>1c32170b4af4ce1a3030eb8167753b06</td>\n",
       "      <td>Pleural thickening</td>\n",
       "      <td>11</td>\n",
       "      <td>R9</td>\n",
       "      <td>627.0</td>\n",
       "      <td>357.0</td>\n",
       "      <td>947.0</td>\n",
       "      <td>433.0</td>\n",
       "      <td>2540</td>\n",
       "      <td>3072</td>\n",
       "    </tr>\n",
       "    <tr>\n",
       "      <th>3</th>\n",
       "      <td>0c7a38f293d5f5e4846aa4ca6db4daf1</td>\n",
       "      <td>ILD</td>\n",
       "      <td>5</td>\n",
       "      <td>R17</td>\n",
       "      <td>1347.0</td>\n",
       "      <td>245.0</td>\n",
       "      <td>2188.0</td>\n",
       "      <td>2169.0</td>\n",
       "      <td>2285</td>\n",
       "      <td>2555</td>\n",
       "    </tr>\n",
       "    <tr>\n",
       "      <th>4</th>\n",
       "      <td>47ed17dcb2cbeec15182ed335a8b5a9e</td>\n",
       "      <td>Nodule/Mass</td>\n",
       "      <td>8</td>\n",
       "      <td>R9</td>\n",
       "      <td>557.0</td>\n",
       "      <td>2352.0</td>\n",
       "      <td>675.0</td>\n",
       "      <td>2484.0</td>\n",
       "      <td>2568</td>\n",
       "      <td>3353</td>\n",
       "    </tr>\n",
       "  </tbody>\n",
       "</table>\n",
       "</div>"
      ],
      "text/plain": [
       "                           image_id          class_name  class_id rad_id  \\\n",
       "0  9a5094b2563a1ef3ff50dc5c7ff71345        Cardiomegaly         3    R10   \n",
       "1  051132a778e61a86eb147c7c6f564dfe  Aortic enlargement         0    R10   \n",
       "2  1c32170b4af4ce1a3030eb8167753b06  Pleural thickening        11     R9   \n",
       "3  0c7a38f293d5f5e4846aa4ca6db4daf1                 ILD         5    R17   \n",
       "4  47ed17dcb2cbeec15182ed335a8b5a9e         Nodule/Mass         8     R9   \n",
       "\n",
       "    x_min   y_min   x_max   y_max  width  height  \n",
       "0   691.0  1375.0  1653.0  1831.0   2080    2336  \n",
       "1  1264.0   743.0  1611.0  1019.0   2304    2880  \n",
       "2   627.0   357.0   947.0   433.0   2540    3072  \n",
       "3  1347.0   245.0  2188.0  2169.0   2285    2555  \n",
       "4   557.0  2352.0   675.0  2484.0   2568    3353  "
      ]
     },
     "execution_count": 8,
     "metadata": {},
     "output_type": "execute_result"
    }
   ],
   "source": [
    "df = df[df['class_id']!=14].reset_index(drop = True)\n",
    "df.head()"
   ]
  },
  {
   "cell_type": "code",
   "execution_count": 9,
   "metadata": {},
   "outputs": [
    {
     "data": {
      "text/plain": [
       "03e6ecfa6f6fb33dfeac6ca4f9b459c9    57\n",
       "fa109c087e46fe1ea27e48ce6d154d2f    52\n",
       "e31be972e181987a8600a8700c1ebe88    48\n",
       "3a302fbbbf3364aa1a7731b59e6b98ec    46\n",
       "6d5acf3f8a973a26844d617fffe72998    46\n",
       "                                    ..\n",
       "6b2b72d289bf26b3aaf41548df0ab160     3\n",
       "7e6182876c0a09e96176348e2fcd712e     3\n",
       "4e05e0eb20d51d18764289ce2c240942     3\n",
       "af274ab115b34a7c0eca41ed997fd214     3\n",
       "1224f07d895107573588225f692e94f9     3\n",
       "Name: image_id, Length: 4394, dtype: int64"
      ]
     },
     "execution_count": 9,
     "metadata": {},
     "output_type": "execute_result"
    }
   ],
   "source": [
    "df['image_id'].value_counts()"
   ]
  },
  {
   "attachments": {},
   "cell_type": "markdown",
   "metadata": {},
   "source": [
    "## Calc bounding box in YOLOv5 format"
   ]
  },
  {
   "cell_type": "code",
   "execution_count": 10,
   "metadata": {},
   "outputs": [
    {
     "data": {
      "text/html": [
       "<div>\n",
       "<style scoped>\n",
       "    .dataframe tbody tr th:only-of-type {\n",
       "        vertical-align: middle;\n",
       "    }\n",
       "\n",
       "    .dataframe tbody tr th {\n",
       "        vertical-align: top;\n",
       "    }\n",
       "\n",
       "    .dataframe thead th {\n",
       "        text-align: right;\n",
       "    }\n",
       "</style>\n",
       "<table border=\"1\" class=\"dataframe\">\n",
       "  <thead>\n",
       "    <tr style=\"text-align: right;\">\n",
       "      <th></th>\n",
       "      <th>image_id</th>\n",
       "      <th>class_name</th>\n",
       "      <th>class_id</th>\n",
       "      <th>rad_id</th>\n",
       "      <th>x_min</th>\n",
       "      <th>y_min</th>\n",
       "      <th>x_max</th>\n",
       "      <th>y_max</th>\n",
       "      <th>width</th>\n",
       "      <th>height</th>\n",
       "      <th>x_mid</th>\n",
       "      <th>y_mid</th>\n",
       "      <th>w</th>\n",
       "      <th>h</th>\n",
       "    </tr>\n",
       "  </thead>\n",
       "  <tbody>\n",
       "    <tr>\n",
       "      <th>0</th>\n",
       "      <td>9a5094b2563a1ef3ff50dc5c7ff71345</td>\n",
       "      <td>Cardiomegaly</td>\n",
       "      <td>3</td>\n",
       "      <td>R10</td>\n",
       "      <td>85.046154</td>\n",
       "      <td>150.684932</td>\n",
       "      <td>203.446154</td>\n",
       "      <td>200.657534</td>\n",
       "      <td>2080</td>\n",
       "      <td>2336</td>\n",
       "      <td>0.563462</td>\n",
       "      <td>0.686216</td>\n",
       "      <td>0.462500</td>\n",
       "      <td>0.195205</td>\n",
       "    </tr>\n",
       "    <tr>\n",
       "      <th>1</th>\n",
       "      <td>051132a778e61a86eb147c7c6f564dfe</td>\n",
       "      <td>Aortic enlargement</td>\n",
       "      <td>0</td>\n",
       "      <td>R10</td>\n",
       "      <td>140.444444</td>\n",
       "      <td>66.044444</td>\n",
       "      <td>179.000000</td>\n",
       "      <td>90.577778</td>\n",
       "      <td>2304</td>\n",
       "      <td>2880</td>\n",
       "      <td>0.623915</td>\n",
       "      <td>0.305903</td>\n",
       "      <td>0.150608</td>\n",
       "      <td>0.095833</td>\n",
       "    </tr>\n",
       "    <tr>\n",
       "      <th>2</th>\n",
       "      <td>1c32170b4af4ce1a3030eb8167753b06</td>\n",
       "      <td>Pleural thickening</td>\n",
       "      <td>11</td>\n",
       "      <td>R9</td>\n",
       "      <td>63.193701</td>\n",
       "      <td>29.750000</td>\n",
       "      <td>95.445669</td>\n",
       "      <td>36.083333</td>\n",
       "      <td>2540</td>\n",
       "      <td>3072</td>\n",
       "      <td>0.309843</td>\n",
       "      <td>0.128581</td>\n",
       "      <td>0.125984</td>\n",
       "      <td>0.024740</td>\n",
       "    </tr>\n",
       "    <tr>\n",
       "      <th>3</th>\n",
       "      <td>0c7a38f293d5f5e4846aa4ca6db4daf1</td>\n",
       "      <td>ILD</td>\n",
       "      <td>5</td>\n",
       "      <td>R17</td>\n",
       "      <td>150.911160</td>\n",
       "      <td>24.547945</td>\n",
       "      <td>245.132604</td>\n",
       "      <td>217.324462</td>\n",
       "      <td>2285</td>\n",
       "      <td>2555</td>\n",
       "      <td>0.773523</td>\n",
       "      <td>0.472407</td>\n",
       "      <td>0.368053</td>\n",
       "      <td>0.753033</td>\n",
       "    </tr>\n",
       "    <tr>\n",
       "      <th>4</th>\n",
       "      <td>47ed17dcb2cbeec15182ed335a8b5a9e</td>\n",
       "      <td>Nodule/Mass</td>\n",
       "      <td>8</td>\n",
       "      <td>R9</td>\n",
       "      <td>55.526480</td>\n",
       "      <td>179.574113</td>\n",
       "      <td>67.289720</td>\n",
       "      <td>189.652252</td>\n",
       "      <td>2568</td>\n",
       "      <td>3353</td>\n",
       "      <td>0.239875</td>\n",
       "      <td>0.721145</td>\n",
       "      <td>0.045950</td>\n",
       "      <td>0.039368</td>\n",
       "    </tr>\n",
       "  </tbody>\n",
       "</table>\n",
       "</div>"
      ],
      "text/plain": [
       "                           image_id          class_name  class_id rad_id  \\\n",
       "0  9a5094b2563a1ef3ff50dc5c7ff71345        Cardiomegaly         3    R10   \n",
       "1  051132a778e61a86eb147c7c6f564dfe  Aortic enlargement         0    R10   \n",
       "2  1c32170b4af4ce1a3030eb8167753b06  Pleural thickening        11     R9   \n",
       "3  0c7a38f293d5f5e4846aa4ca6db4daf1                 ILD         5    R17   \n",
       "4  47ed17dcb2cbeec15182ed335a8b5a9e         Nodule/Mass         8     R9   \n",
       "\n",
       "        x_min       y_min       x_max       y_max  width  height     x_mid  \\\n",
       "0   85.046154  150.684932  203.446154  200.657534   2080    2336  0.563462   \n",
       "1  140.444444   66.044444  179.000000   90.577778   2304    2880  0.623915   \n",
       "2   63.193701   29.750000   95.445669   36.083333   2540    3072  0.309843   \n",
       "3  150.911160   24.547945  245.132604  217.324462   2285    2555  0.773523   \n",
       "4   55.526480  179.574113   67.289720  189.652252   2568    3353  0.239875   \n",
       "\n",
       "      y_mid         w         h  \n",
       "0  0.686216  0.462500  0.195205  \n",
       "1  0.305903  0.150608  0.095833  \n",
       "2  0.128581  0.125984  0.024740  \n",
       "3  0.472407  0.368053  0.753033  \n",
       "4  0.721145  0.045950  0.039368  "
      ]
     },
     "execution_count": 10,
     "metadata": {},
     "output_type": "execute_result"
    }
   ],
   "source": [
    "# resize\n",
    "df['x_min'] = df.apply(lambda row: (row.x_min)/row.width, axis = 1)*float(size)\n",
    "df['y_min'] = df.apply(lambda row: (row.y_min)/row.height, axis = 1)*float(size)\n",
    "df['x_max'] = df.apply(lambda row: (row.x_max)/row.width, axis =1)*float(size)\n",
    "df['y_max'] = df.apply(lambda row: (row.y_max)/row.height, axis =1)*float(size)\n",
    "\n",
    "df['x_mid'] = df.apply(lambda row: (row.x_max+row.x_min)/2, axis =1)\n",
    "df['y_mid'] = df.apply(lambda row: (row.y_max+row.y_min)/2, axis =1)\n",
    "\n",
    "df['w'] = df.apply(lambda row: (row.x_max-row.x_min), axis =1)\n",
    "df['h'] = df.apply(lambda row: (row.y_max-row.y_min), axis =1)\n",
    "\n",
    "df['x_mid'] /= float(size)\n",
    "df['y_mid'] /= float(size)\n",
    "\n",
    "df['w'] /= float(size)\n",
    "df['h'] /= float(size)\n",
    "df.head()"
   ]
  },
  {
   "cell_type": "code",
   "execution_count": 11,
   "metadata": {},
   "outputs": [
    {
     "data": {
      "text/plain": [
       "(36096, 14)"
      ]
     },
     "execution_count": 11,
     "metadata": {},
     "output_type": "execute_result"
    }
   ],
   "source": [
    "df.shape"
   ]
  },
  {
   "attachments": {},
   "cell_type": "markdown",
   "metadata": {},
   "source": [
    "## Select Cardiomegaly and Pleural thickening"
   ]
  },
  {
   "cell_type": "code",
   "execution_count": 12,
   "metadata": {},
   "outputs": [],
   "source": [
    "cardiomegaly_df = df[df['class_id'] == 3][0:2000].copy()\n",
    "pleural_df = df[df['class_id'] == 11][0:2000].copy()\n"
   ]
  },
  {
   "cell_type": "code",
   "execution_count": 13,
   "metadata": {},
   "outputs": [
    {
     "name": "stdout",
     "output_type": "stream",
     "text": [
      "(2000, 14)\n",
      "(2000, 14)\n"
     ]
    }
   ],
   "source": [
    "print(cardiomegaly_df.shape)\n",
    "print(pleural_df.shape)"
   ]
  },
  {
   "attachments": {},
   "cell_type": "markdown",
   "metadata": {},
   "source": [
    "## TRAIN and VAL split"
   ]
  },
  {
   "cell_type": "code",
   "execution_count": 14,
   "metadata": {},
   "outputs": [],
   "source": [
    "c_train = cardiomegaly_df[0:1800].copy()\n",
    "c_val = cardiomegaly_df[1800:].copy()\n",
    "p_train = pleural_df[0:1800].copy()\n",
    "p_val = pleural_df[1800:].copy()"
   ]
  },
  {
   "cell_type": "code",
   "execution_count": 15,
   "metadata": {},
   "outputs": [],
   "source": [
    "train_df = pd.concat([c_train, p_train])\n",
    "val_df = pd.concat([c_val, p_val])"
   ]
  },
  {
   "cell_type": "code",
   "execution_count": 16,
   "metadata": {},
   "outputs": [
    {
     "name": "stdout",
     "output_type": "stream",
     "text": [
      "(36096, 14)\n",
      "(3600, 14)\n",
      "(400, 14)\n"
     ]
    }
   ],
   "source": [
    "print(df.shape)\n",
    "print(train_df.shape)\n",
    "print(val_df.shape)"
   ]
  },
  {
   "attachments": {},
   "cell_type": "markdown",
   "metadata": {},
   "source": [
    "## Convert to YOLOv5 format"
   ]
  },
  {
   "cell_type": "code",
   "execution_count": 17,
   "metadata": {},
   "outputs": [],
   "source": [
    "# <class> <x_center> <y_center> <width> <height>\n",
    "def preproccess_data(df, labels_path, images_path):\n",
    "\tfor index, row in tqdm(df.iterrows(), total=len(df)):\n",
    "\t\tattributes = row[['class_id','x_mid','y_mid','w','h']].values\n",
    "\t\tattributes = np.array(attributes)\n",
    "\t\tnp.savetxt(os.path.join(labels_path, f\"{row['image_id']}-{index}.txt\"), [attributes], fmt = ['%d', '%f', '%f', '%f', '%f'])\n",
    "\t\timage = Image.open(os.path.join('../input/vinbigdata-512-image-dataset/vinbigdata/train', f\"{row['image_id']}.png\"))\n",
    "\t\tresizedImage = image.resize((size, size))\n",
    "\t\tresizedImage.save(images_path + f\"/{row['image_id']}-{index}.png\")"
   ]
  },
  {
   "cell_type": "code",
   "execution_count": 18,
   "metadata": {},
   "outputs": [],
   "source": [
    "# preproccess_data(train_df, TRAIN_LABELS_PATH, TRAIN_IMAGES_PATH)\n",
    "# preproccess_data(val_df, VAL_LABELS_PATH, VAL_IMAGES_PATH)"
   ]
  },
  {
   "attachments": {},
   "cell_type": "markdown",
   "metadata": {},
   "source": [
    "## YOLOv5 Configuration"
   ]
  },
  {
   "cell_type": "code",
   "execution_count": 19,
   "metadata": {},
   "outputs": [
    {
     "name": "stdout",
     "output_type": "stream",
     "text": [
      "\n",
      "yaml:\n",
      "names:\n",
      "- Cardiomegaly\n",
      "- Pleural thickening\n",
      "nc: 2\n",
      "train: ../vinbigdata/images/train\n",
      "val: ../vinbigdata/images/val\n",
      "\n"
     ]
    }
   ],
   "source": [
    "classes = train_df['class_name'].unique().tolist()\n",
    "\n",
    "data = dict(\n",
    "    train =  '../vinbigdata/images/train',\n",
    "    val   =  '../vinbigdata/images/val',\n",
    "    nc    = len(classes),\n",
    "    names = classes\n",
    "    )\n",
    "\n",
    "with open('./yolov5/vinbigdata.yaml', 'w') as outfile:\n",
    "    yaml.dump(data, outfile, default_flow_style=False)\n",
    "\n",
    "f = open('./yolov5/vinbigdata.yaml', 'r')\n",
    "print('\\nyaml:')\n",
    "print(f.read())"
   ]
  },
  {
   "attachments": {},
   "cell_type": "markdown",
   "metadata": {},
   "source": [
    "## YOLOv5 Training"
   ]
  },
  {
   "cell_type": "code",
   "execution_count": 20,
   "metadata": {},
   "outputs": [],
   "source": [
    "# !git clone https://github.com/ultralytics/yolov5.git"
   ]
  },
  {
   "cell_type": "code",
   "execution_count": 21,
   "metadata": {},
   "outputs": [
    {
     "name": "stdout",
     "output_type": "stream",
     "text": [
      "/Users/teeradejlo/Desktop/Projects/DataScience/Bas_CXRAnomalyDetection/models/yolov5\n"
     ]
    }
   ],
   "source": [
    "%cd yolov5"
   ]
  },
  {
   "cell_type": "code",
   "execution_count": 22,
   "metadata": {},
   "outputs": [],
   "source": [
    "# %pip install -U -r requirements.txt\n",
    "# %pip install pycocotools seaborn pandas thop\n",
    "\n",
    "# # clear_output()"
   ]
  },
  {
   "cell_type": "code",
   "execution_count": 23,
   "metadata": {},
   "outputs": [],
   "source": [
    "# wandb.login()"
   ]
  },
  {
   "cell_type": "code",
   "execution_count": 24,
   "metadata": {},
   "outputs": [],
   "source": [
    "# !wandb offline"
   ]
  },
  {
   "cell_type": "code",
   "execution_count": 25,
   "metadata": {},
   "outputs": [],
   "source": [
    "# !python train.py --img 256 --batch 16 --epochs 100 --patience 20 --data ./vinbigdata.yaml --cfg models/yolov5x.yaml --weights yolov5x.pt --cache --name vin"
   ]
  },
  {
   "cell_type": "code",
   "execution_count": 26,
   "metadata": {},
   "outputs": [],
   "source": [
    "# Validating runs/train/vin/weights/best.pt...\n",
    "# Fusing layers... \n",
    "# YOLOv5x summary: 322 layers, 86260891 parameters, 0 gradients, 204.0 GFLOPs\n",
    "#                  Class     Images  Instances          P          R      mAP50   mAP50-95: 100%|██████████| 15/15 [03:06<00:00, 12.44s/it]\n",
    "#                    all        469        469      0.481      0.184       0.11     0.0457\n",
    "#           Cardiomegaly        469        101      0.244      0.941      0.374      0.173\n",
    "#     Aortic enlargement        469          5          1          0     0.0137    0.00658\n",
    "#     Pleural thickening        469         11          1          0    0.00262     0.0011\n",
    "#                    ILD        469         82      0.263      0.927      0.449      0.251\n",
    "#            Nodule/Mass        469          6          1          0      0.107     0.0229\n",
    "#     Pulmonary fibrosis        469         17       0.44     0.0588      0.103     0.0503\n",
    "#           Lung Opacity        469         12          0          0    0.00862    0.00254\n",
    "#            Atelectasis        469         26     0.0731      0.115     0.0347     0.0118\n",
    "#           Other lesion        469         28     0.0995     0.0714      0.032     0.0111\n",
    "#           Infiltration        469         25          1          0     0.0016    0.00038\n",
    "#       Pleural effusion        469         33      0.488      0.333      0.334      0.089\n",
    "#          Calcification        469         56          0          0     0.0117    0.00332\n",
    "#          Consolidation        469          2          1          0    0.00561    0.00112\n",
    "#           Pneumothorax        469         65      0.127      0.123     0.0616     0.0163\n"
   ]
  },
  {
   "attachments": {},
   "cell_type": "markdown",
   "metadata": {},
   "source": [
    "## Model Testing"
   ]
  },
  {
   "cell_type": "code",
   "execution_count": 27,
   "metadata": {},
   "outputs": [
    {
     "name": "stdout",
     "output_type": "stream",
     "text": [
      "/Users/teeradejlo/Desktop/Projects/DataScience/Bas_CXRAnomalyDetection/models\n"
     ]
    }
   ],
   "source": [
    "%cd .."
   ]
  },
  {
   "cell_type": "code",
   "execution_count": 29,
   "metadata": {},
   "outputs": [
    {
     "name": "stderr",
     "output_type": "stream",
     "text": [
      "Using cache found in /Users/teeradejlo/.cache/torch/hub/ultralytics_yolov5_master\n",
      "YOLOv5 🚀 2022-12-30 Python-3.8.13 torch-1.13.1 CPU\n",
      "\n",
      "Fusing layers... \n",
      "YOLOv5x summary: 322 layers, 86260891 parameters, 0 gradients, 204.0 GFLOPs\n",
      "Adding AutoShape... \n"
     ]
    }
   ],
   "source": [
    "model = torch.hub.load('ultralytics/yolov5', 'custom', path=\"./yolov5/runs/train/vin/weights/best.pt\")"
   ]
  }
 ],
 "metadata": {
  "kernelspec": {
   "display_name": "dsci",
   "language": "python",
   "name": "python3"
  },
  "language_info": {
   "codemirror_mode": {
    "name": "ipython",
    "version": 3
   },
   "file_extension": ".py",
   "mimetype": "text/x-python",
   "name": "python",
   "nbconvert_exporter": "python",
   "pygments_lexer": "ipython3",
   "version": "3.8.13"
  },
  "orig_nbformat": 4,
  "vscode": {
   "interpreter": {
    "hash": "ff92257a5bfeb8d6f7d8c46fdd6c7cb4b656d538687ca32d3e51da55cdacaf26"
   }
  }
 },
 "nbformat": 4,
 "nbformat_minor": 2
}
